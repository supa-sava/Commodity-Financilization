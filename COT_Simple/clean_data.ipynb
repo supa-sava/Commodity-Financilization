{
 "cells": [
  {
   "cell_type": "code",
   "execution_count": null,
   "id": "dbe4d673",
   "metadata": {},
   "outputs": [
    {
     "name": "stdout",
     "output_type": "stream",
     "text": [
      "WARNING *** OLE2 inconsistency: SSCS size is 0 but SSAT size is non-zero\n",
      "WARNING *** OLE2 inconsistency: SSCS size is 0 but SSAT size is non-zero\n"
     ]
    }
   ],
   "source": [
    "import pandas as pd\n",
    "\n",
    "def load_filtered_data(file_path):\n",
    "    \"\"\"Load and filter raw data file\"\"\"\n",
    "    try:\n",
    "        df = pd.read_excel(file_path)\n",
    "        \n",
    "        # Filter by CFTC Commodity Codes (original paper's 27 commodities)\n",
    "        CFTC_Commodity_Codes = [\n",
    "            67, 22, 111, 23, 85, 84, 88, 76, 75, 1, 2, 5, 7, 26, 4, 39,\n",
    "            57, 54, 61, 52, 33, 40, 58, 73, 83, 80\n",
    "        ]\n",
    "        return df[df['CFTC_Commodity_Code'].isin(CFTC_Commodity_Codes)]\n",
    "    except Exception as e:\n",
    "        print(f\"Error loading {file_path}: {e}\")\n",
    "        return pd.DataFrame()\n",
    "    \n",
    "data_1986_2006 = load_filtered_data(\"data/1986_2006.xls\")\n",
    "data_2007_2014 = load_filtered_data(\"data/2007_2014.xls\")\n",
    "data_2015_2016 = load_filtered_data(\"data/2015_2016.xls\")\n",
    "data_2017 = load_filtered_data(\"data/2017.xls\")\n",
    "data_2018 = load_filtered_data(\"data/2018.xls\")\n",
    "data_2019 = load_filtered_data(\"data/2019.xls\")\n",
    "data_2020 = load_filtered_data(\"data/2020.xls\")\n",
    "data_2021 = load_filtered_data(\"data/2021.xls\")\n",
    "data_2022 = load_filtered_data(\"data/2022.xls\")\n",
    "data_2023 = load_filtered_data(\"data/2023.xls\")\n",
    "data_2024 = load_filtered_data(\"data/2024.xls\")\n",
    "data_2025 = load_filtered_data(\"data/2025.xls\")\n",
    "\n",
    "# data_1986_2006 = pd.read_excel(\"data/1986_2006.xls\")\n",
    "# data_2007_2014 = pd.read_excel(\"data/2007_2014.xls\")\n",
    "# data_2015_2016 = pd.read_excel(\"data/2015_2016.xls\")\n",
    "# data_2017 = pd.read_excel(\"data/2017.xls\")\n",
    "# data_2018 = pd.read_excel(\"data/2018.xls\")\n",
    "# data_2019 = pd.read_excel(\"data/2019.xls\")\n",
    "# data_2020 = pd.read_excel(\"data/2020.xls\")\n",
    "# data_2021 = pd.read_excel(\"data/2021.xls\")\n",
    "# data_2022 = pd.read_excel(\"data/2022.xls\")\n",
    "# data_2023 = pd.read_excel(\"data/2023.xls\")\n",
    "# data_2024 = pd.read_excel(\"data/2024.xls\")\n",
    "# data_2025 = pd.read_excel(\"data/2025.xls\")\n",
    "data_1986_2006"
   ]
  },
  {
   "cell_type": "code",
   "execution_count": null,
   "id": "5e1d6a0d",
   "metadata": {},
   "outputs": [],
   "source": [
    "dfs = [\n",
    "    data_1986_2006,\n",
    "    data_2007_2014,\n",
    "    data_2015_2016,\n",
    "    data_2017,\n",
    "    data_2018,\n",
    "    data_2019,\n",
    "    data_2020,\n",
    "    data_2021,\n",
    "    data_2022,\n",
    "    data_2023,\n",
    "    data_2024,\n",
    "    data_2025\n",
    "]\n",
    "# Concatenate all dataframes\n",
    "combined_df = pd.concat(dfs, ignore_index=True)\n",
    "combined_df"
   ]
  },
  {
   "cell_type": "code",
   "execution_count": null,
   "id": "88b334a1",
   "metadata": {},
   "outputs": [],
   "source": [
    "\n",
    "approved_contracts = [\n",
    "    # Energy (4)\n",
    "    'CRUDE OIL, LIGHT SWEET - NEW YORK MERCANTILE EXCHANGE',\n",
    "    'NO. 2 HEATING OIL, N.Y. HARBOR - NEW YORK MERCANTILE EXCHANGE',\n",
    "    'NATURAL GAS - NEW YORK MERCANTILE EXCHANGE',\n",
    "    'GASOLINE BLENDSTOCK (RBOB) - NEW YORK MERCANTILE EXCHANGE',\n",
    "    \n",
    "    # Metals (5)\n",
    "    'GOLD - COMMODITY EXCHANGE INC.',\n",
    "    'SILVER - COMMODITY EXCHANGE INC.',\n",
    "    'COPPER-GRADE #1 - COMMODITY EXCHANGE INC.',\n",
    "    'PLATINUM - NEW YORK MERCANTILE EXCHANGE',\n",
    "    'PALLADIUM - NEW YORK MERCANTILE EXCHANGE',\n",
    "    \n",
    "    # Grains (7)\n",
    "    'CORN - CHICAGO BOARD OF TRADE',\n",
    "    'WHEAT - CHICAGO BOARD OF TRADE',\n",
    "    'SOYBEANS - CHICAGO BOARD OF TRADE',\n",
    "    'SOYBEAN OIL - CHICAGO BOARD OF TRADE',\n",
    "    'SOYBEAN MEAL - CHICAGO BOARD OF TRADE',\n",
    "    'OATS - CHICAGO BOARD OF TRADE',\n",
    "    'ROUGH RICE - CHICAGO BOARD OF TRADE',\n",
    "    \n",
    "    # Livestock (3)\n",
    "    'LIVE CATTLE - CHICAGO MERCANTILE EXCHANGE',\n",
    "    'LEAN HOGS - CHICAGO MERCANTILE EXCHANGE',\n",
    "    'FEEDER CATTLE - CHICAGO MERCANTILE EXCHANGE',\n",
    "    \n",
    "    # Softs (5)\n",
    "    'COTTON NO. 2 - NEW YORK BOARD OF TRADE',\n",
    "    'COFFEE C - NEW YORK BOARD OF TRADE',\n",
    "    'SUGAR NO. 11 - NEW YORK BOARD OF TRADE',\n",
    "    'COCOA - NEW YORK BOARD OF TRADE',\n",
    "    'FRZN CONCENTRATED ORANGE JUICE - ICE FUTURES U.S.',\n",
    "    \n",
    "    # Other (1)\n",
    "    'MILK, Class III - CHICAGO MERCANTILE EXCHANGE'\n",
    "]\n",
    "\n",
    "\n",
    "filtered_df = combined_df[combined_df['Market_and_Exchange_Names'].isin(approved_contracts)]\n"
   ]
  },
  {
   "cell_type": "code",
   "execution_count": 6,
   "id": "f6f6567d",
   "metadata": {},
   "outputs": [
    {
     "name": "stderr",
     "output_type": "stream",
     "text": [
      "/var/folders/6p/889s42gx3jj45p0zs5159byr0000gn/T/ipykernel_7582/3781389683.py:1: SettingWithCopyWarning: \n",
      "A value is trying to be set on a copy of a slice from a DataFrame.\n",
      "Try using .loc[row_indexer,col_indexer] = value instead\n",
      "\n",
      "See the caveats in the documentation: https://pandas.pydata.org/pandas-docs/stable/user_guide/indexing.html#returning-a-view-versus-a-copy\n",
      "  filtered_df['Report_Date_as_MM_DD_YYYY'] = pd.to_datetime(\n"
     ]
    }
   ],
   "source": [
    "filtered_df['Report_Date_as_MM_DD_YYYY'] = pd.to_datetime(\n",
    "        filtered_df['Report_Date_as_MM_DD_YYYY'],\n",
    "        errors='coerce'\n",
    "    )\n",
    "filtered_df = filtered_df.dropna(subset=['Report_Date_as_MM_DD_YYYY'])\n"
   ]
  },
  {
   "cell_type": "code",
   "execution_count": 7,
   "id": "ae514e3c",
   "metadata": {},
   "outputs": [
    {
     "name": "stdout",
     "output_type": "stream",
     "text": [
      "['WHEAT - CHICAGO BOARD OF TRADE' 'CORN - CHICAGO BOARD OF TRADE'\n",
      " 'OATS - CHICAGO BOARD OF TRADE' 'SOYBEANS - CHICAGO BOARD OF TRADE'\n",
      " 'SOYBEAN OIL - CHICAGO BOARD OF TRADE'\n",
      " 'NO. 2 HEATING OIL, N.Y. HARBOR - NEW YORK MERCANTILE EXCHANGE'\n",
      " 'NATURAL GAS - NEW YORK MERCANTILE EXCHANGE'\n",
      " 'SOYBEAN MEAL - CHICAGO BOARD OF TRADE'\n",
      " 'COTTON NO. 2 - NEW YORK BOARD OF TRADE'\n",
      " 'ROUGH RICE - CHICAGO BOARD OF TRADE'\n",
      " 'LEAN HOGS - CHICAGO MERCANTILE EXCHANGE'\n",
      " 'LIVE CATTLE - CHICAGO MERCANTILE EXCHANGE'\n",
      " 'FEEDER CATTLE - CHICAGO MERCANTILE EXCHANGE'\n",
      " 'CRUDE OIL, LIGHT SWEET - NEW YORK MERCANTILE EXCHANGE'\n",
      " 'COCOA - NEW YORK BOARD OF TRADE'\n",
      " 'PALLADIUM - NEW YORK MERCANTILE EXCHANGE'\n",
      " 'PLATINUM - NEW YORK MERCANTILE EXCHANGE'\n",
      " 'SUGAR NO. 11 - NEW YORK BOARD OF TRADE'\n",
      " 'COFFEE C - NEW YORK BOARD OF TRADE' 'SILVER - COMMODITY EXCHANGE INC.'\n",
      " 'COPPER-GRADE #1 - COMMODITY EXCHANGE INC.'\n",
      " 'GOLD - COMMODITY EXCHANGE INC.'\n",
      " 'GASOLINE BLENDSTOCK (RBOB) - NEW YORK MERCANTILE EXCHANGE'\n",
      " 'FRZN CONCENTRATED ORANGE JUICE - ICE FUTURES U.S.'\n",
      " 'MILK, Class III - CHICAGO MERCANTILE EXCHANGE']\n",
      "25\n"
     ]
    }
   ],
   "source": [
    "unique_names = filtered_df['Market_and_Exchange_Names'].unique()\n",
    "print(unique_names)\n",
    "print(len(unique_names))"
   ]
  },
  {
   "cell_type": "code",
   "execution_count": 10,
   "id": "42124273",
   "metadata": {},
   "outputs": [
    {
     "name": "stdout",
     "output_type": "stream",
     "text": [
      "0: Market_and_Exchange_Names,1: As_of_Date_In_Form_YYMMDD,2: Report_Date_as_MM_DD_YYYY,3: CFTC_Contract_Market_Code,4: CFTC_Market_Code,5: CFTC_Region_Code,6: CFTC_Commodity_Code,7: Open_Interest_All,8: NonComm_Positions_Long_All,9: NonComm_Positions_Short_All,10: NonComm_Postions_Spread_All,11: Comm_Positions_Long_All,12: Comm_Positions_Short_All,13: Tot_Rept_Positions_Long_All,14: Tot_Rept_Positions_Short_All,15: NonRept_Positions_Long_All,16: NonRept_Positions_Short_All,17: Open_Interest_Old,18: NonComm_Positions_Long_Old,19: NonComm_Positions_Short_Old,20: NonComm_Positions_Spread_Old,21: Comm_Positions_Long_Old,22: Comm_Positions_Short_Old,23: Tot_Rept_Positions_Long_Old,24: Tot_Rept_Positions_Short_Old,25: NonRept_Positions_Long_Old,26: NonRept_Positions_Short_Old,27: Open_Interest_Other,28: NonComm_Positions_Long_Other,29: NonComm_Positions_Short_Other,30: NonComm_Positions_Spread_Other,31: Comm_Positions_Long_Other,32: Comm_Positions_Short_Other,33: Tot_Rept_Positions_Long_Other,34: Tot_Rept_Positions_Short_Other,35: NonRept_Positions_Long_Other,36: NonRept_Positions_Short_Other,37: Change_in_Open_Interest_All,38: Change_in_NonComm_Long_All,39: Change_in_NonComm_Short_All,40: Change_in_NonComm_Spead_All,41: Change_in_Comm_Long_All,42: Change_in_Comm_Short_All,43: Change_in_Tot_Rept_Long_All,44: Change_in_Tot_Rept_Short_All,45: Change_in_NonRept_Long_All,46: Change_in_NonRept_Short_All,47: Pct_of_Open_Interest_All,48: Pct_of_OI_NonComm_Long_All,49: Pct_of_OI_NonComm_Short_All,50: Pct_of_OI_NonComm_Spread_All,51: Pct_of_OI_Comm_Long_All,52: Pct_of_OI_Comm_Short_All,53: Pct_of_OI_Tot_Rept_Long_All,54: Pct_of_OI_Tot_Rept_Short_All,55: Pct_of_OI_NonRept_Long_All,56: Pct_of_OI_NonRept_Short_All,57: Pct_of_Open_Interest_Old,58: Pct_of_OI_NonComm_Long_Old,59: Pct_of_OI_NonComm_Short_Old,60: Pct_of_OI_NonComm_Spread_Old,61: Pct_of_OI_Comm_Long_Old,62: Pct_of_OI_Comm_Short_Old,63: Pct_of_OI_Tot_Rept_Long_Old,64: Pct_of_OI_Tot_Rept_Short_Old,65: Pct_of_OI_NonRept_Long_Old,66: Pct_of_OI_NonRept_Short_Old,67: Pct_of_Open_Interest_Other,68: Pct_of_OI_NonComm_Long_Other,69: Pct_of_OI_NonComm_Short_Other,70: Pct_of_OI_NonComm_Spread_Other,71: Pct_of_OI_Comm_Long_Other,72: Pct_of_OI_Comm_Short_Other,73: Pct_of_OI_Tot_Rept_Long_Other,74: Pct_of_OI_Tot_Rept_Short_Other,75: Pct_of_OI_NonRept_Long_Other,76: Pct_of_OI_NonRept_Short_Other,77: Traders_Tot_All,78: Traders_NonComm_Long_All,79: Traders_NonComm_Short_All,80: Traders_NonComm_Spread_All,81: Traders_Comm_Long_All,82: Traders_Comm_Short_All,83: Traders_Tot_Rept_Long_All,84: Traders_Tot_Rept_Short_All,85: Traders_Tot_Old,86: Traders_NonComm_Long_Old,87: Traders_NonComm_Short_Old,88: Traders_NonComm_Spead_Old,89: Traders_Comm_Long_Old,90: Traders_Comm_Short_Old,91: Traders_Tot_Rept_Long_Old,92: Traders_Tot_Rept_Short_Old,93: Traders_Tot_Other,94: Traders_NonComm_Long_Other,95: Traders_NonComm_Short_Other,96: Traders_NonComm_Spread_Other,97: Traders_Comm_Long_Other,98: Traders_Comm_Short_Other,99: Traders_Tot_Rept_Long_Other,100: Traders_Tot_Rept_Short_Other,101: Conc_Gross_LE_4_TDR_Long_All,102: Conc_Gross_LE_4_TDR_Short_All,103: Conc_Gross_LE_8_TDR_Long_All,104: Conc_Gross_LE_8_TDR_Short_All,105: Conc_Net_LE_4_TDR_Long_All,106: Conc_Net_LE_4_TDR_Short_All,107: Conc_Net_LE_8_TDR_Long_All,108: Conc_Net_LE_8_TDR_Short_All,109: Conc_Gross_LE_4_TDR_Long_Old,110: Conc_Gross_LE_4_TDR_Short_Old,111: Conc_Gross_LE_8_TDR_Long_Old,112: Conc_Gross_LE_8_TDR_Short_Old,113: Conc_Net_LE_4_TDR_Long_Old,114: Conc_Net_LE_4_TDR_Short_Old,115: Conc_Net_LE_8_TDR_Long_Old,116: Conc_Net_LE_8_TDR_Short_Old,117: Conc_Gross_LE_4_TDR_Long_Other,118: Conc_Gross_LE_4_TDR_Short_Other,119: Conc_Gross_LE_8_TDR_Long_Other,120: Conc_Gross_LE_8_TDR_Short_Other,121: Conc_Net_LE_4_TDR_Long_Other,122: Conc_Net_LE_4_TDR_Short_Other,123: Conc_Net_LE_8_TDR_Long_Other,124: Conc_Net_LE_8_TDR_Short_Other,125: Contract_Units,"
     ]
    }
   ],
   "source": [
    "i=0\n",
    "for column in filtered_df.columns:   \n",
    "    print(f\"{i}: {column}\", end=\",\")\n",
    "    i+=1  "
   ]
  },
  {
   "cell_type": "markdown",
   "id": "eefcadbf",
   "metadata": {},
   "source": [
    "igure 8: Commercials (hedgers), Non-Commercials (speculators) and Non Reportable as a \n",
    "%\n",
    "% of Total Open Interest\n",
    "Note: The figure is based on weekly CFTC’s commitment of traders report for 27 commodities in our dataset, see notes to figure 7. CFTC reports long and short positions for commercials (hedgers), non-commercials (speculators) and non-reportable. The report provides spread positions of non-commercials. Total open interest is the sum of long (short) positions across the three categories of traders and the spread positions of non-commercials. For each commodity and category we calculate the total gross positions (long plus short and twice the spread positions) as a ratio of twice the open interest. The figure plots average share for each of the three categories across the 27 commodities."
   ]
  },
  {
   "cell_type": "code",
   "execution_count": 11,
   "id": "60598a68",
   "metadata": {},
   "outputs": [],
   "source": [
    "def calculate_percentages(df):\n",
    "    \"\"\"Calculate trader category percentages for Figure B\"\"\"\n",
    "    # Calculate gross positions for each category\n",
    "    df['NonComm_Gross'] = (df['NonComm_Positions_Long_All'] + \n",
    "                           df['NonComm_Positions_Short_All'] + \n",
    "                           2 * df['NonComm_Postions_Spread_All'])  # Note the column name typo 'Postions'\n",
    "    \n",
    "    df['Comm_Gross'] = (df['Comm_Positions_Long_All'] + \n",
    "                        df['Comm_Positions_Short_All'])\n",
    "    \n",
    "    df['NonRept_Gross'] = (df['NonRept_Positions_Long_All'] + \n",
    "                           df['NonRept_Positions_Short_All'])\n",
    "    \n",
    "    # Calculate percentages of twice the open interest\n",
    "    df['NonComm_Pct'] = df['NonComm_Gross'] / (2 * df['Open_Interest_All'])\n",
    "    df['Comm_Pct'] = df['Comm_Gross'] / (2 * df['Open_Interest_All'])\n",
    "    df['NonRept_Pct'] = df['NonRept_Gross'] / (2 * df['Open_Interest_All'])\n",
    "    \n",
    "    return df"
   ]
  },
  {
   "cell_type": "code",
   "execution_count": 12,
   "id": "9c1ec689",
   "metadata": {},
   "outputs": [],
   "source": [
    "processed_df = calculate_percentages(filtered_df)"
   ]
  },
  {
   "cell_type": "code",
   "execution_count": 14,
   "id": "aab5a28c",
   "metadata": {},
   "outputs": [],
   "source": [
    "agg_df = processed_df.groupby('Report_Date_as_MM_DD_YYYY').agg({\n",
    "        'NonComm_Pct': 'mean',\n",
    "        'Comm_Pct': 'mean',\n",
    "        'NonRept_Pct': 'mean'\n",
    "    }).reset_index()"
   ]
  },
  {
   "cell_type": "code",
   "execution_count": 15,
   "id": "08c90857",
   "metadata": {},
   "outputs": [],
   "source": [
    "agg_df.to_csv(\"trader_composition_simple.csv\", index=False)"
   ]
  }
 ],
 "metadata": {
  "kernelspec": {
   "display_name": "com_env",
   "language": "python",
   "name": "python3"
  },
  "language_info": {
   "codemirror_mode": {
    "name": "ipython",
    "version": 3
   },
   "file_extension": ".py",
   "mimetype": "text/x-python",
   "name": "python",
   "nbconvert_exporter": "python",
   "pygments_lexer": "ipython3",
   "version": "3.12.9"
  }
 },
 "nbformat": 4,
 "nbformat_minor": 5
}
